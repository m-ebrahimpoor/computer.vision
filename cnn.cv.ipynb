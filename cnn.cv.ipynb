{
 "cells": [
  {
   "cell_type": "code",
   "execution_count": 1,
   "metadata": {},
   "outputs": [],
   "source": [
    "##################################   Training a convnet from scratch on a small dataset  ####################################"
   ]
  },
  {
   "cell_type": "code",
   "execution_count": null,
   "metadata": {},
   "outputs": [],
   "source": [
    "import os, shutil\n",
    "from keras import layers\n",
    "from keras import models\n",
    "from keras import optimizers\n",
    "from keras.preprocessing.image import ImageDataGenerator\n",
    "import matplotlib.pyplot as plt"
   ]
  },
  {
   "cell_type": "code",
   "execution_count": 2,
   "metadata": {},
   "outputs": [],
   "source": [
    "#Path to the directory where the original dataset was uncompressed \n",
    "original_dataset_dir = 'c:/Users/mebra/train'\n",
    "\n",
    "#Directory where you’ll store your smaller dataset\n",
    "base_dir = 'c:/users/mebra/cats_and_dogs_small'\n",
    "os.mkdir(base_dir)"
   ]
  },
  {
   "cell_type": "code",
   "execution_count": 3,
   "metadata": {},
   "outputs": [],
   "source": [
    "#Directories for the training,validation, and test splits\n",
    "train_dir = os.path.join(base_dir, 'train')\n",
    "os.mkdir(train_dir)\n",
    "\n",
    "validation_dir = os.path.join(base_dir, 'validation')\n",
    "os.mkdir(validation_dir)\n",
    "\n",
    "test_dir = os.path.join(base_dir, 'test')\n",
    "os.mkdir(test_dir)"
   ]
  },
  {
   "cell_type": "code",
   "execution_count": 4,
   "metadata": {},
   "outputs": [],
   "source": [
    "#Directory with training cat pictures\n",
    "train_cats_dir = os.path.join(train_dir, 'cats')\n",
    "os.mkdir(train_cats_dir)\n",
    "\n",
    "#Directory with training dog pictures\n",
    "train_dogs_dir = os.path.join(train_dir, 'dogs')\n",
    "os.mkdir(train_dogs_dir)"
   ]
  },
  {
   "cell_type": "code",
   "execution_count": 5,
   "metadata": {},
   "outputs": [],
   "source": [
    "#Directory with validation cat pictures\n",
    "validation_cats_dir = os.path.join(validation_dir, 'cats')\n",
    "os.mkdir(validation_cats_dir)\n",
    "\n",
    "#Directory with validation dog pictures\n",
    "validation_dogs_dir = os.path.join(validation_dir, 'dogs')\n",
    "os.mkdir(validation_dogs_dir)"
   ]
  },
  {
   "cell_type": "code",
   "execution_count": 6,
   "metadata": {},
   "outputs": [],
   "source": [
    "#Directory with test cat pictures\n",
    "test_cats_dir = os.path.join(test_dir, 'cats')\n",
    "os.mkdir(test_cats_dir)\n",
    "\n",
    "#Directory with test dog pictures\n",
    "test_dogs_dir = os.path.join(test_dir, 'dogs')\n",
    "os.mkdir(test_dogs_dir)"
   ]
  },
  {
   "cell_type": "code",
   "execution_count": 7,
   "metadata": {},
   "outputs": [],
   "source": [
    "# copyies the first 1000 cat images to train_cats_dir\n",
    "fnames = ['cat.{}.jpg'.format(i) for i in range(1000)]\n",
    "for fname in fnames:\n",
    "    src = os.path.join(original_dataset_dir, fname)\n",
    "    dst = os.path.join(train_cats_dir, fname)\n",
    "    shutil.copyfile(src, dst)"
   ]
  },
  {
   "cell_type": "code",
   "execution_count": 8,
   "metadata": {},
   "outputs": [],
   "source": [
    "#Copies the next 500 cat images to validation_cats_dir\n",
    "fnames = ['cat.{}.jpg'.format(i) for i in range(1000, 1500)]\n",
    "for fname in fnames:\n",
    "    src = os.path.join(original_dataset_dir, fname)\n",
    "    dst = os.path.join(validation_cats_dir, fname)\n",
    "    shutil.copyfile(src, dst)"
   ]
  },
  {
   "cell_type": "code",
   "execution_count": 9,
   "metadata": {},
   "outputs": [],
   "source": [
    "#Copies the next 500 cat images to test_cats_dir\n",
    "fnames = ['cat.{}.jpg'.format(i) for i in range(1500, 2000)]\n",
    "for fname in fnames:\n",
    "    src = os.path.join(original_dataset_dir, fname)\n",
    "    dst = os.path.join(test_cats_dir, fname)\n",
    "    shutil.copyfile(src, dst)"
   ]
  },
  {
   "cell_type": "code",
   "execution_count": 10,
   "metadata": {},
   "outputs": [],
   "source": [
    "#Copies the first 1,000 dog images to train_dogs_dir\n",
    "fnames = ['dog.{}.jpg'.format(i) for i in range(1000)]\n",
    "for fname in fnames:\n",
    "    src = os.path.join(original_dataset_dir, fname)\n",
    "    dst = os.path.join(train_dogs_dir, fname)\n",
    "    shutil.copyfile(src, dst)"
   ]
  },
  {
   "cell_type": "code",
   "execution_count": 11,
   "metadata": {},
   "outputs": [],
   "source": [
    "#Copies the next 500 dog images to validation_dogs_dir\n",
    "fnames = ['dog.{}.jpg'.format(i) for i in range(1000, 1500)]\n",
    "for fname in fnames:\n",
    "    src = os.path.join(original_dataset_dir, fname)\n",
    "    dst = os.path.join(validation_dogs_dir, fname)\n",
    "    shutil.copyfile(src, dst)"
   ]
  },
  {
   "cell_type": "code",
   "execution_count": 12,
   "metadata": {},
   "outputs": [],
   "source": [
    "#Copies the next 500 dog images to test_dogs_dir\n",
    "fnames = ['dog.{}.jpg'.format(i) for i in range(1500, 2000)]\n",
    "for fname in fnames:\n",
    "    src = os.path.join(original_dataset_dir, fname)\n",
    "    dst = os.path.join(test_dogs_dir, fname)\n",
    "    shutil.copyfile(src, dst)"
   ]
  },
  {
   "cell_type": "code",
   "execution_count": 13,
   "metadata": {},
   "outputs": [
    {
     "name": "stdout",
     "output_type": "stream",
     "text": [
      "total training cat images: 1000\n",
      "total training dog images: 1000\n",
      "total validation cat images: 500\n",
      "total validation dog images: 500\n",
      "total test cat images: 500\n",
      "total test dog images: 500\n"
     ]
    }
   ],
   "source": [
    "# count how many pictures are in each training split (train/validation/test):\n",
    "print('total training cat images:', len(os.listdir(train_cats_dir)))\n",
    "print('total training dog images:', len(os.listdir(train_dogs_dir)))\n",
    "print('total validation cat images:', len(os.listdir(validation_cats_dir)))\n",
    "print('total validation dog images:', len(os.listdir(validation_dogs_dir)))\n",
    "print('total test cat images:', len(os.listdir(test_cats_dir)))\n",
    "print('total test dog images:', len(os.listdir(test_dogs_dir)))"
   ]
  },
  {
   "cell_type": "code",
   "execution_count": 14,
   "metadata": {},
   "outputs": [],
   "source": [
    "#Instantiating a small convnet for dogs vs. cats classification\n",
    "model = models.Sequential()\n",
    "\n",
    "model.add(layers.Conv2D(32, (3, 3), activation='relu', input_shape=(150, 150, 3)))\n",
    "model.add(layers.MaxPooling2D((2, 2)))\n",
    "\n",
    "model.add(layers.Conv2D(64, (3, 3), activation='relu'))\n",
    "model.add(layers.MaxPooling2D((2, 2)))\n",
    "\n",
    "model.add(layers.Conv2D(128, (3, 3), activation='relu'))\n",
    "model.add(layers.MaxPooling2D((2, 2)))\n",
    "\n",
    "model.add(layers.Conv2D(128, (3, 3), activation='relu'))\n",
    "model.add(layers.MaxPooling2D((2, 2)))\n",
    "\n",
    "model.add(layers.Flatten())\n",
    "\n",
    "model.add(layers.Dense(512, activation='relu'))\n",
    "model.add(layers.Dense(1, activation='sigmoid'))"
   ]
  },
  {
   "cell_type": "code",
   "execution_count": 15,
   "metadata": {},
   "outputs": [
    {
     "name": "stdout",
     "output_type": "stream",
     "text": [
      "Model: \"sequential\"\n",
      "_________________________________________________________________\n",
      "Layer (type)                 Output Shape              Param #   \n",
      "=================================================================\n",
      "conv2d (Conv2D)              (None, 148, 148, 32)      896       \n",
      "_________________________________________________________________\n",
      "max_pooling2d (MaxPooling2D) (None, 74, 74, 32)        0         \n",
      "_________________________________________________________________\n",
      "conv2d_1 (Conv2D)            (None, 72, 72, 64)        18496     \n",
      "_________________________________________________________________\n",
      "max_pooling2d_1 (MaxPooling2 (None, 36, 36, 64)        0         \n",
      "_________________________________________________________________\n",
      "conv2d_2 (Conv2D)            (None, 34, 34, 128)       73856     \n",
      "_________________________________________________________________\n",
      "max_pooling2d_2 (MaxPooling2 (None, 17, 17, 128)       0         \n",
      "_________________________________________________________________\n",
      "conv2d_3 (Conv2D)            (None, 15, 15, 128)       147584    \n",
      "_________________________________________________________________\n",
      "max_pooling2d_3 (MaxPooling2 (None, 7, 7, 128)         0         \n",
      "_________________________________________________________________\n",
      "flatten (Flatten)            (None, 6272)              0         \n",
      "_________________________________________________________________\n",
      "dense (Dense)                (None, 512)               3211776   \n",
      "_________________________________________________________________\n",
      "dense_1 (Dense)              (None, 1)                 513       \n",
      "=================================================================\n",
      "Total params: 3,453,121\n",
      "Trainable params: 3,453,121\n",
      "Non-trainable params: 0\n",
      "_________________________________________________________________\n"
     ]
    }
   ],
   "source": [
    "# the dimensions of the feature maps change with every successive layer:\n",
    "model.summary()"
   ]
  },
  {
   "cell_type": "code",
   "execution_count": 16,
   "metadata": {},
   "outputs": [],
   "source": [
    "#Configuring the model for training\n",
    "model.compile(loss='binary_crossentropy',optimizer=optimizers.RMSprop(lr=1e-4),metrics=['acc'])"
   ]
  },
  {
   "cell_type": "code",
   "execution_count": 17,
   "metadata": {},
   "outputs": [
    {
     "name": "stdout",
     "output_type": "stream",
     "text": [
      "Found 2000 images belonging to 2 classes.\n",
      "Found 1000 images belonging to 2 classes.\n"
     ]
    }
   ],
   "source": [
    "#Using ImageDataGenerator to read images from directories\n",
    "\n",
    "train_datagen = ImageDataGenerator(rescale=1./255)#Rescales all images by 1/255\n",
    "test_datagen = ImageDataGenerator(rescale=1./255)\n",
    "\n",
    "train_generator = train_datagen.flow_from_directory(train_dir, target_size=(150, 150), batch_size=20, class_mode='binary')#Resizes all images to 150 × 150\n",
    "validation_generator = test_datagen.flow_from_directory(validation_dir, target_size=(150, 150), batch_size=20, class_mode='binary')"
   ]
  },
  {
   "cell_type": "code",
   "execution_count": 18,
   "metadata": {},
   "outputs": [
    {
     "name": "stdout",
     "output_type": "stream",
     "text": [
      "WARNING:tensorflow:From <ipython-input-18-07a558b7d1d9>:2: Model.fit_generator (from tensorflow.python.keras.engine.training) is deprecated and will be removed in a future version.\n",
      "Instructions for updating:\n",
      "Please use Model.fit, which supports generators.\n",
      "Epoch 1/30\n",
      "100/100 [==============================] - 150s 2s/step - loss: 0.6893 - acc: 0.5490 - val_loss: 0.6700 - val_acc: 0.5800\n",
      "Epoch 2/30\n",
      "100/100 [==============================] - 118s 1s/step - loss: 0.6487 - acc: 0.6115 - val_loss: 0.6319 - val_acc: 0.6220\n",
      "Epoch 3/30\n",
      "100/100 [==============================] - 118s 1s/step - loss: 0.5914 - acc: 0.6865 - val_loss: 0.6149 - val_acc: 0.6470\n",
      "Epoch 4/30\n",
      "100/100 [==============================] - 114s 1s/step - loss: 0.5551 - acc: 0.7070 - val_loss: 0.5897 - val_acc: 0.6760\n",
      "Epoch 5/30\n",
      "100/100 [==============================] - 112s 1s/step - loss: 0.5242 - acc: 0.7400 - val_loss: 0.6043 - val_acc: 0.6790\n",
      "Epoch 6/30\n",
      "100/100 [==============================] - 118s 1s/step - loss: 0.4930 - acc: 0.7610 - val_loss: 0.5536 - val_acc: 0.7150\n",
      "Epoch 7/30\n",
      "100/100 [==============================] - 112s 1s/step - loss: 0.4573 - acc: 0.7850 - val_loss: 0.5515 - val_acc: 0.7210\n",
      "Epoch 8/30\n",
      "100/100 [==============================] - 116s 1s/step - loss: 0.4411 - acc: 0.7955 - val_loss: 0.5508 - val_acc: 0.7250\n",
      "Epoch 9/30\n",
      "100/100 [==============================] - 112s 1s/step - loss: 0.4092 - acc: 0.8200 - val_loss: 0.5314 - val_acc: 0.7340\n",
      "Epoch 10/30\n",
      "100/100 [==============================] - 113s 1s/step - loss: 0.3917 - acc: 0.8240 - val_loss: 0.5440 - val_acc: 0.7330\n",
      "Epoch 11/30\n",
      "100/100 [==============================] - 116s 1s/step - loss: 0.3669 - acc: 0.8440 - val_loss: 0.5464 - val_acc: 0.7290\n",
      "Epoch 12/30\n",
      "100/100 [==============================] - 112s 1s/step - loss: 0.3452 - acc: 0.8515 - val_loss: 0.5758 - val_acc: 0.7310\n",
      "Epoch 13/30\n",
      "100/100 [==============================] - 113s 1s/step - loss: 0.3225 - acc: 0.8635 - val_loss: 0.5294 - val_acc: 0.7370\n",
      "Epoch 14/30\n",
      "100/100 [==============================] - 113s 1s/step - loss: 0.2992 - acc: 0.8695 - val_loss: 0.5629 - val_acc: 0.7510\n",
      "Epoch 15/30\n",
      "100/100 [==============================] - 112s 1s/step - loss: 0.2854 - acc: 0.8835 - val_loss: 0.5796 - val_acc: 0.7280\n",
      "Epoch 16/30\n",
      "100/100 [==============================] - 112s 1s/step - loss: 0.2540 - acc: 0.9000 - val_loss: 0.5918 - val_acc: 0.7280\n",
      "Epoch 17/30\n",
      "100/100 [==============================] - 114s 1s/step - loss: 0.2358 - acc: 0.9065 - val_loss: 0.6702 - val_acc: 0.7310\n",
      "Epoch 18/30\n",
      "100/100 [==============================] - 113s 1s/step - loss: 0.2232 - acc: 0.9070 - val_loss: 0.6175 - val_acc: 0.7420\n",
      "Epoch 19/30\n",
      "100/100 [==============================] - 115s 1s/step - loss: 0.1963 - acc: 0.9220 - val_loss: 0.6121 - val_acc: 0.7530\n",
      "Epoch 20/30\n",
      "100/100 [==============================] - 112s 1s/step - loss: 0.1802 - acc: 0.9320 - val_loss: 0.6844 - val_acc: 0.7350\n",
      "Epoch 21/30\n",
      "100/100 [==============================] - 114s 1s/step - loss: 0.1597 - acc: 0.9380 - val_loss: 0.6300 - val_acc: 0.7350\n",
      "Epoch 22/30\n",
      "100/100 [==============================] - 113s 1s/step - loss: 0.1427 - acc: 0.9475 - val_loss: 0.6817 - val_acc: 0.7390\n",
      "Epoch 23/30\n",
      "100/100 [==============================] - 116s 1s/step - loss: 0.1303 - acc: 0.9585 - val_loss: 0.7514 - val_acc: 0.7350\n",
      "Epoch 24/30\n",
      "100/100 [==============================] - 112s 1s/step - loss: 0.1115 - acc: 0.9690 - val_loss: 0.7583 - val_acc: 0.7490\n",
      "Epoch 25/30\n",
      "100/100 [==============================] - 114s 1s/step - loss: 0.1052 - acc: 0.9670 - val_loss: 0.8437 - val_acc: 0.7230\n",
      "Epoch 26/30\n",
      "100/100 [==============================] - 113s 1s/step - loss: 0.0914 - acc: 0.9715 - val_loss: 0.7641 - val_acc: 0.7370\n",
      "Epoch 27/30\n",
      "100/100 [==============================] - 113s 1s/step - loss: 0.0704 - acc: 0.9795 - val_loss: 0.8679 - val_acc: 0.7350\n",
      "Epoch 28/30\n",
      "100/100 [==============================] - 113s 1s/step - loss: 0.0682 - acc: 0.9810 - val_loss: 0.9339 - val_acc: 0.7300\n",
      "Epoch 29/30\n",
      "100/100 [==============================] - 117s 1s/step - loss: 0.0584 - acc: 0.9825 - val_loss: 0.8685 - val_acc: 0.7280\n",
      "Epoch 30/30\n",
      "100/100 [==============================] - 121s 1s/step - loss: 0.0448 - acc: 0.9895 - val_loss: 0.9863 - val_acc: 0.7390\n"
     ]
    }
   ],
   "source": [
    "#Fitting the model using a batch generator\n",
    "history = model.fit_generator(train_generator,steps_per_epoch=100,epochs=30,validation_data=validation_generator,validation_steps=50)"
   ]
  },
  {
   "cell_type": "code",
   "execution_count": 19,
   "metadata": {},
   "outputs": [],
   "source": [
    "#saving the model\n",
    "model.save('cats_and_dogs_small_1.h5')"
   ]
  },
  {
   "cell_type": "code",
   "execution_count": 20,
   "metadata": {},
   "outputs": [
    {
     "data": {
      "image/png": "[encoded data removed]",
      "text/plain": [
       "<Figure size 432x288 with 1 Axes>"
      ]
     },
     "metadata": {
      "needs_background": "light"
     },
     "output_type": "display_data"
    },
    {
     "data": {
      "image/png": "[encoded data removed]",
      "text/plain": [
       "<Figure size 432x288 with 1 Axes>"
      ]
     },
     "metadata": {
      "needs_background": "light"
     },
     "output_type": "display_data"
    }
   ],
   "source": [
    "#Displaying curves of loss and accuracy during training\n",
    "acc = history.history['acc']\n",
    "val_acc = history.history['val_acc']\n",
    "loss = history.history['loss']\n",
    "val_loss = history.history['val_loss']\n",
    "epochs = range(1, len(acc) + 1)\n",
    "plt.plot(epochs, acc, 'bo', label='Training acc')\n",
    "plt.plot(epochs, val_acc, 'b', label='Validation acc')\n",
    "plt.title('Training and validation accuracy')\n",
    "plt.legend()\n",
    "plt.figure()\n",
    "plt.plot(epochs, loss, 'bo', label='Training loss')\n",
    "plt.plot(epochs, val_loss, 'b', label='Validation loss')\n",
    "plt.title('Training and validation loss')\n",
    "plt.legend()\n",
    "plt.show()"
   ]
  },
  {
   "cell_type": "code",
   "execution_count": null,
   "metadata": {},
   "outputs": [],
   "source": []
  }
 ],
 "metadata": {
  "kernelspec": {
   "display_name": "Python 3",
   "language": "python",
   "name": "python3"
  },
  "language_info": {
   "codemirror_mode": {
    "name": "ipython",
    "version": 3
   },
   "file_extension": ".py",
   "mimetype": "text/x-python",
   "name": "python",
   "nbconvert_exporter": "python",
   "pygments_lexer": "ipython3",
   "version": "3.8.5"
  }
 },
 "nbformat": 4,
 "nbformat_minor": 4
}
